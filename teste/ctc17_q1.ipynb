{
 "nbformat": 4,
 "nbformat_minor": 0,
 "metadata": {
  "colab": {
   "name": "ctc17_q1.ipynb",
   "provenance": []
  },
  "kernelspec": {
   "name": "python3",
   "language": "python",
   "display_name": "Python 3"
  },
  "language_info": {
   "name": "python"
  }
 },
 "cells": [
  {
   "cell_type": "code",
   "metadata": {
    "colab": {
     "base_uri": "https://localhost:8080/",
     "height": 455
    },
    "id": "xXTC8VxH-QTB",
    "outputId": "49dd9db7-4b57-4fbd-afde-1469f690671c"
   },
   "source": [
    "import pandas as pd\n",
    "# csv location\n",
    "data_path = \"australia.csv\"\n",
    "# read CSV dataset\n",
    "data = pd.read_csv(data_path)\n",
    "data.set_index('id', inplace=True)\n",
    "data"
   ],
   "execution_count": 2,
   "outputs": [
    {
     "data": {
      "text/plain": "               city        lat         lng     state/territory  population\nid                                                                        \n1          Adelaide -34.928661  138.598633     South Australia   1145000.0\n2    Adelaide River -13.239430  131.107330  Northern Territory       237.0\n3            Albany -35.003101  117.865952   Western Australia     26445.0\n4            Albury -36.074823  146.924006     New South Wales    104258.0\n5     Alice Springs -23.697479  133.883621  Northern Territory     27710.0\n..              ...        ...         ...                 ...         ...\n215         Woomera -31.199810  136.832581     South Australia       450.0\n216           Yamba -29.435450  153.360306     New South Wales      1806.0\n217         Yeppoon -23.126829  150.744064          Queensland     10769.0\n218           Young -34.313499  148.301071     New South Wales      7501.0\n219          Yulara -25.245291  130.980545  Northern Territory       930.0\n\n[219 rows x 5 columns]",
      "text/html": "<div>\n<style scoped>\n    .dataframe tbody tr th:only-of-type {\n        vertical-align: middle;\n    }\n\n    .dataframe tbody tr th {\n        vertical-align: top;\n    }\n\n    .dataframe thead th {\n        text-align: right;\n    }\n</style>\n<table border=\"1\" class=\"dataframe\">\n  <thead>\n    <tr style=\"text-align: right;\">\n      <th></th>\n      <th>city</th>\n      <th>lat</th>\n      <th>lng</th>\n      <th>state/territory</th>\n      <th>population</th>\n    </tr>\n    <tr>\n      <th>id</th>\n      <th></th>\n      <th></th>\n      <th></th>\n      <th></th>\n      <th></th>\n    </tr>\n  </thead>\n  <tbody>\n    <tr>\n      <th>1</th>\n      <td>Adelaide</td>\n      <td>-34.928661</td>\n      <td>138.598633</td>\n      <td>South Australia</td>\n      <td>1145000.0</td>\n    </tr>\n    <tr>\n      <th>2</th>\n      <td>Adelaide River</td>\n      <td>-13.239430</td>\n      <td>131.107330</td>\n      <td>Northern Territory</td>\n      <td>237.0</td>\n    </tr>\n    <tr>\n      <th>3</th>\n      <td>Albany</td>\n      <td>-35.003101</td>\n      <td>117.865952</td>\n      <td>Western Australia</td>\n      <td>26445.0</td>\n    </tr>\n    <tr>\n      <th>4</th>\n      <td>Albury</td>\n      <td>-36.074823</td>\n      <td>146.924006</td>\n      <td>New South Wales</td>\n      <td>104258.0</td>\n    </tr>\n    <tr>\n      <th>5</th>\n      <td>Alice Springs</td>\n      <td>-23.697479</td>\n      <td>133.883621</td>\n      <td>Northern Territory</td>\n      <td>27710.0</td>\n    </tr>\n    <tr>\n      <th>...</th>\n      <td>...</td>\n      <td>...</td>\n      <td>...</td>\n      <td>...</td>\n      <td>...</td>\n    </tr>\n    <tr>\n      <th>215</th>\n      <td>Woomera</td>\n      <td>-31.199810</td>\n      <td>136.832581</td>\n      <td>South Australia</td>\n      <td>450.0</td>\n    </tr>\n    <tr>\n      <th>216</th>\n      <td>Yamba</td>\n      <td>-29.435450</td>\n      <td>153.360306</td>\n      <td>New South Wales</td>\n      <td>1806.0</td>\n    </tr>\n    <tr>\n      <th>217</th>\n      <td>Yeppoon</td>\n      <td>-23.126829</td>\n      <td>150.744064</td>\n      <td>Queensland</td>\n      <td>10769.0</td>\n    </tr>\n    <tr>\n      <th>218</th>\n      <td>Young</td>\n      <td>-34.313499</td>\n      <td>148.301071</td>\n      <td>New South Wales</td>\n      <td>7501.0</td>\n    </tr>\n    <tr>\n      <th>219</th>\n      <td>Yulara</td>\n      <td>-25.245291</td>\n      <td>130.980545</td>\n      <td>Northern Territory</td>\n      <td>930.0</td>\n    </tr>\n  </tbody>\n</table>\n<p>219 rows × 5 columns</p>\n</div>"
     },
     "execution_count": 2,
     "metadata": {},
     "output_type": "execute_result"
    }
   ]
  },
  {
   "cell_type": "code",
   "metadata": {
    "colab": {
     "base_uri": "https://localhost:8080/"
    },
    "id": "fgLuuHTHK39B",
    "outputId": "f06031c1-5997-4557-f6bd-79233ece00b2"
   },
   "source": [
    "a = data.index.values\n",
    "a"
   ],
   "execution_count": 68,
   "outputs": [
    {
     "output_type": "execute_result",
     "data": {
      "text/plain": [
       "array([  1,   2,   3,   4,   5,   6,   7,   8,   9,  10,  11,  12,  13,\n",
       "        14,  15,  16,  17,  18,  19,  20,  21,  22,  23,  24,  25,  26,\n",
       "        27,  28,  29,  30,  31,  32,  33,  34,  35,  36,  37,  38,  39,\n",
       "        40,  41,  42,  43,  44,  45,  46,  47,  48,  49,  50,  51,  52,\n",
       "        53,  54,  55,  56,  57,  58,  59,  60,  61,  62,  63,  64,  65,\n",
       "        66,  67,  68,  69,  70,  71,  72,  73,  74,  75,  76,  77,  78,\n",
       "        79,  80,  81,  82,  83,  84,  85,  86,  87,  88,  89,  90,  91,\n",
       "        92,  93,  94,  95,  96,  97,  98,  99, 100, 101, 102, 103, 104,\n",
       "       105, 106, 107, 108, 109, 110, 111, 112, 113, 114, 115, 116, 117,\n",
       "       118, 119, 120, 121, 122, 123, 124, 125, 126, 127, 128, 129, 130,\n",
       "       131, 132, 133, 134, 135, 136, 137, 138, 139, 140, 141, 142, 143,\n",
       "       144, 145, 146, 147, 148, 149, 150, 151, 152, 153, 154, 155, 156,\n",
       "       157, 158, 159, 160, 161, 162, 163, 164, 165, 166, 167, 168, 169,\n",
       "       170, 171, 172, 173, 174, 175, 176, 177, 178, 179, 180, 181, 182,\n",
       "       183, 184, 185, 186, 187, 188, 189, 190, 191, 192, 193, 194, 195,\n",
       "       196, 197, 198, 199, 200, 201, 202, 203, 204, 205, 206, 207, 208,\n",
       "       209, 210, 211, 212, 213, 214, 215, 216, 217, 218, 219])"
      ]
     },
     "metadata": {},
     "execution_count": 68
    }
   ]
  },
  {
   "cell_type": "code",
   "metadata": {
    "id": "I5cwh5P6C4D7"
   },
   "source": [
    "import geopy.distance \n",
    "from math import inf\n",
    "import heapq"
   ],
   "execution_count": 33,
   "outputs": []
  },
  {
   "cell_type": "code",
   "metadata": {
    "id": "eBOZs77rFHXw"
   },
   "source": [
    "class Node(object):\n",
    "  def __init__(self, id, info):\n",
    "    self.id = id\n",
    "    self.info = info\n",
    "    self.parent = None\n",
    "    self.closed = False\n",
    "    self.g = inf\n",
    "    self.f = inf\n",
    "        \n",
    "  def calculate_real_distance(self, node):\n",
    "    # a distância pela estrada é 10% maior que a distância em linha reta\n",
    "    distance = self.calculate_heuristic_distance(node) * 1.1\n",
    "    return distance\n",
    "\n",
    "  def calculate_heuristic_distance(self, node):\n",
    "    p1 = (self.info.lat, self.info.lng)\n",
    "    p2 = (node.info.lat, node.info.lng)\n",
    "    distance = geopy.distance.distance(p1, p2).km\n",
    "    return distance\n",
    " "
   ],
   "execution_count": 89,
   "outputs": []
  },
  {
   "cell_type": "code",
   "metadata": {
    "id": "lpug8NCL50Ea"
   },
   "source": [
    "class Map(object):\n",
    "  def __init__(self, data):\n",
    "    self.grid = [None]\n",
    "    for id in data.index.values:\n",
    "      info = data.loc[id, ['city','lat', 'lng']]\n",
    "      self.grid.append(Node(id, info))\n",
    "\n",
    "  def get_node(self, id):\n",
    "    return self.grid[id]\n",
    "\n",
    "  def get_successors(self, id): \n",
    "    successors = []\n",
    "    valid_id = data.index.values\n",
    "    # id par\n",
    "    if id%2 == 0:\n",
    "      if (id + 2) in valid_id:\n",
    "        successors.append(id + 2)\n",
    "      if (id - 1) in valid_id:\n",
    "        successors.append(id - 1)\n",
    "      if (id - 2) in valid_id:\n",
    "        successors.append(id - 2)\n",
    "    # id ímpar\n",
    "    else:\n",
    "      if (id + 2) in valid_id:\n",
    "        successors.append(id + 2)\n",
    "      if (id + 1) in valid_id:\n",
    "        successors.append(id + 1)\n",
    "      if (id - 2) in valid_id:\n",
    "        successors.append(id - 2)        \n",
    "    return successors"
   ],
   "execution_count": 82,
   "outputs": []
  },
  {
   "cell_type": "code",
   "metadata": {
    "id": "MrnvGyEhC5mA"
   },
   "source": [
    "class PathPlanner(object):\n",
    "  def __init__(self, map):\n",
    "    self.map = map\n",
    "\n",
    "  @staticmethod\n",
    "  def construct_path(goal_node):\n",
    "    node = goal_node\n",
    "    reversed_path = []\n",
    "    \n",
    "    while node is not None:\n",
    "        reversed_path.append((node.info.name, node.info.city))\n",
    "        \n",
    "        node = node.parent\n",
    "    return reversed_path[::-1]  # This syntax creates the reverse list\n",
    "\n",
    "  def a_star(self, start_id, goal_id):\n",
    "\n",
    "    pq = []\n",
    "    node = self.map.get_node(start_id)\n",
    "    goal_node = self.map.get_node(goal_id)\n",
    "    node.g = 0\n",
    "    node.f = node.calculate_heuristic_distance(goal_node)\n",
    "    heapq.heappush(pq, (node.f, node))\n",
    "    while len(pq) > 0:\n",
    "        f, node = heapq.heappop(pq)\n",
    "        node.closed = True\n",
    "        if node == goal_node:\n",
    "            return self.construct_path(goal_node), goal_node.f\n",
    "        for successor in self.map.get_successors(node.id):\n",
    "            node_suc = self.map.get_node(successor)\n",
    "            if not node_suc.closed:\n",
    "                h = node_suc.calculate_heuristic_distance(goal_node)\n",
    "                cost = node.g + node.calculate_real_distance(node_suc) + h\n",
    "                if node_suc.f > cost:\n",
    "                    node_suc.g = node.g + node.calculate_real_distance(node_suc)\n",
    "                    node_suc.f = cost\n",
    "                    node_suc.parent = node\n",
    "                    heapq.heappush(pq, (node_suc.f, node_suc))"
   ],
   "execution_count": 167,
   "outputs": []
  },
  {
   "cell_type": "code",
   "metadata": {
    "id": "PLclWqNuZTjG"
   },
   "source": [
    "def calculate_arestas(grid, valid_id):\n",
    "  cities = grid[1:]\n",
    "  arestas = []\n",
    "  for city in cities:\n",
    "    id = city.id\n",
    "    if id%2 == 1:\n",
    "      if (id + 1) in valid_id:\n",
    "        arestas.append((str(id), str(id + 1), {'weight': city.calculate_real_distance(grid[id + 1])}))\n",
    "    if (id + 2) in valid_id:\n",
    "      arestas.append((str(id), str(id + 2), {'weight': city.calculate_real_distance(grid[id + 2])}))\n",
    "    \n",
    "  return arestas\n",
    "\n"
   ],
   "execution_count": 168,
   "outputs": []
  },
  {
   "cell_type": "code",
   "metadata": {
    "colab": {
     "base_uri": "https://localhost:8080/"
    },
    "id": "tDGw6uMuJC66",
    "outputId": "28052f84-75ab-4b56-c08a-ce9397c7af4a"
   },
   "source": [
    "start_id = 5\n",
    "goal_id = 219\n",
    "\n",
    "map = Map(data)\n",
    "path_planner = PathPlanner(map)\n",
    "\n",
    "path, cost = path_planner.a_star(start_id, goal_id)\n",
    "\n",
    "print(\"A distância do início ao fim é \",cost)\n",
    "\n",
    "print(\"\\nO menor caminho é: \\n\\n\")\n",
    "\n",
    "for item in path:\n",
    "  print(item)"
   ],
   "execution_count": 171,
   "outputs": [
    {
     "output_type": "stream",
     "name": "stdout",
     "text": [
      "A distância do início ao fim é  166286.86783760806\n",
      "\n",
      "O menor caminho é: \n",
      "\n",
      "\n",
      "(5, 'Alice Springs')\n",
      "(6, 'Andamooka')\n",
      "(8, 'Armidale')\n",
      "(10, 'Ayr')\n",
      "(12, 'Ballarat')\n",
      "(11, 'Bairnsdale East')\n",
      "(13, 'Ballina')\n",
      "(15, 'Batemans Bay')\n",
      "(16, 'Bathurst')\n",
      "(18, 'Bendigo')\n",
      "(20, 'Bicheno')\n",
      "(22, 'Birdsville')\n",
      "(24, 'Bordertown')\n",
      "(26, 'Bourke')\n",
      "(28, 'Brisbane')\n",
      "(30, 'Broome')\n",
      "(32, 'Bundaberg')\n",
      "(34, 'Burnie')\n",
      "(36, 'Byron Bay')\n",
      "(38, 'Cairns')\n",
      "(37, 'Caboolture')\n",
      "(39, 'Caloundra')\n",
      "(41, 'Canberra')\n",
      "(43, 'Ceduna')\n",
      "(45, 'Charleville')\n",
      "(47, 'Clare')\n",
      "(49, 'Cobram')\n",
      "(51, 'Colac')\n",
      "(53, 'Cowell')\n",
      "(55, 'Cranbourne')\n",
      "(57, 'Dalby')\n",
      "(59, 'Deniliquin')\n",
      "(61, 'Dubbo')\n",
      "(62, 'East Maitland')\n",
      "(64, 'Eidsvold')\n",
      "(66, 'Esperance')\n",
      "(68, 'Forbes')\n",
      "(70, 'Gawler')\n",
      "(69, 'Forster')\n",
      "(71, 'Geelong')\n",
      "(73, 'Geraldton')\n",
      "(75, 'Gladstone')\n",
      "(77, 'Goondiwindi')\n",
      "(79, 'Griffith')\n",
      "(81, 'Gympie South')\n",
      "(83, 'Hamilton')\n",
      "(85, 'Hobart')\n",
      "(87, 'Hughenden')\n",
      "(89, 'Inverell')\n",
      "(91, 'Kalbarri')\n",
      "(93, 'Karratha')\n",
      "(95, 'Katanning')\n",
      "(97, 'Katoomba')\n",
      "(99, 'Kiama')\n",
      "(100, 'Kimba')\n",
      "(102, 'Kingoonya')\n",
      "(104, 'Kingston South East')\n",
      "(106, 'Kwinana')\n",
      "(108, 'Laverton')\n",
      "(110, 'Leonora')\n",
      "(112, 'Longreach')\n",
      "(114, 'Manjimup')\n",
      "(116, 'Maryborough')\n",
      "(118, 'Meekatharra')\n",
      "(120, 'Melton')\n",
      "(119, 'Melbourne')\n",
      "(121, 'Meningie')\n",
      "(123, 'Mildura')\n",
      "(125, 'Morawa')\n",
      "(127, 'Mount Barker')\n",
      "(129, 'Mount Isa')\n",
      "(131, 'Mudgee')\n",
      "(133, 'Muswellbrook')\n",
      "(134, 'Narrabri West')\n",
      "(136, 'Newcastle')\n",
      "(138, 'Norseman')\n",
      "(140, 'North Mackay')\n",
      "(139, 'North Lismore')\n",
      "(141, 'North Scottsdale')\n",
      "(143, 'Nowra')\n",
      "(144, 'Oatlands')\n",
      "(146, 'Orange')\n",
      "(148, 'Pambula')\n",
      "(150, 'Parkes')\n",
      "(152, 'Perth')\n",
      "(151, 'Penola')\n",
      "(153, 'Peterborough')\n",
      "(155, 'Port Augusta West')\n",
      "(157, 'Port Douglas')\n",
      "(159, 'Port Lincoln')\n",
      "(161, 'Port Pirie')\n",
      "(162, 'Portland')\n",
      "(164, 'Queanbeyan')\n",
      "(166, 'Quilpie')\n",
      "(168, 'Richmond')\n",
      "(170, 'Rockhampton')\n",
      "(172, 'Roma')\n",
      "(174, 'Scone')\n",
      "(176, 'Shepparton')\n",
      "(175, 'Seymour')\n",
      "(177, 'Singleton')\n",
      "(179, 'South Grafton')\n",
      "(181, 'South Melbourne')\n",
      "(183, 'Stawell')\n",
      "(185, 'Sunbury')\n",
      "(187, 'Sydney')\n",
      "(189, 'Thargomindah')\n",
      "(191, 'Three Springs')\n",
      "(193, 'Toowoomba')\n",
      "(195, 'Traralgon')\n",
      "(197, 'Tumut')\n",
      "(199, 'Ulladulla')\n",
      "(201, 'Wagga Wagga')\n",
      "(203, 'Wallaroo')\n",
      "(204, 'Wangaratta')\n",
      "(206, 'Warwick')\n",
      "(208, 'West Tamworth')\n",
      "(210, 'Wilcannia')\n",
      "(212, 'Winton')\n",
      "(211, 'Windorah')\n",
      "(213, 'Wollongong')\n",
      "(215, 'Woomera')\n",
      "(217, 'Yeppoon')\n",
      "(219, 'Yulara')\n"
     ]
    }
   ]
  },
  {
   "cell_type": "code",
   "metadata": {
    "colab": {
     "base_uri": "https://localhost:8080/"
    },
    "id": "AzSyVCQeNjAF",
    "outputId": "d79ed154-6e19-4700-ae11-639a0adf0bb0"
   },
   "source": [
    "import networkx as nx \n",
    "\n",
    "G = nx.Graph()\n",
    "\n",
    "valid_id = data.index.values\n",
    "vertices = [str(id) for id in data.index.values]\n",
    "arestas = calculate_arestas(map.grid, valid_id)\n",
    "\n",
    "G.add_nodes_from(vertices)\n",
    "G.add_edges_from(arestas)\n",
    "\n",
    "ccm = nx.dijkstra_path(G,source = '5', target = '219')\n",
    "custo_total = nx.dijkstra_path_length(G,source = '5', target = '219')\n",
    "\n",
    "print(\"Validando resultado encontrado pelo algoritmo A* implementado:\")\n",
    "print(\"A distância do início ao fim calculado pelo algoritmo de Dijkstra é\", custo_total)"
   ],
   "execution_count": 170,
   "outputs": [
    {
     "output_type": "stream",
     "name": "stdout",
     "text": [
      "Validando resultado encontrado pelo algoritmo A* implementado:\n",
      "A distância do início ao fim calculado pelo algoritmo de Dijkstra é 166286.86783760806\n"
     ]
    }
   ]
  }
 ]
}